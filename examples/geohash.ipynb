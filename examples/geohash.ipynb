{
 "cells": [
  {
   "cell_type": "code",
   "execution_count": 1,
   "metadata": {},
   "outputs": [],
   "source": [
    "from brute_geo import BruteGeo3DNSearch\n",
    "from hash_geo_3d import HashGeo3DNSearch"
   ]
  },
  {
   "cell_type": "code",
   "execution_count": 2,
   "metadata": {},
   "outputs": [],
   "source": [
    "from matplotlib import pyplot as plt\n",
    "def plot_bench(*benches):\n",
    "    for bench in benches:\n",
    "        plt.plot(bench['n_particles'], bench['init_time'], label=f\"Initialization ({bench['name']})\")\n",
    "    plt.legend()\n",
    "    plt.yscale('log')\n",
    "    plt.xscale('log')\n",
    "    plt.xlabel('Number of particles')\n",
    "    plt.ylabel('t (s)')\n",
    "    plt.show()\n",
    "\n",
    "\n",
    "    for bench in benches:\n",
    "        plt.plot(bench['n_particles'], bench['search_time'], label=f\"Search ({bench['name']})\")\n",
    "\n",
    "    # plt.plot(brute_cart_bench['n_particles'], 4e-8*brute_cart_bench['n_particles']**2, linestyle=\"--\")\n",
    "    # plt.plot(hash_cart_bench['n_particles'], 5.8e-5*hash_cart_bench['n_particles']**1, linestyle=\"--\")\n",
    "    plt.legend()\n",
    "    plt.yscale('log')\n",
    "    plt.xscale('log')\n",
    "    plt.xlabel('Number of particles')\n",
    "    plt.ylabel('t (s)')\n",
    "    plt.show()"
   ]
  },
  {
   "cell_type": "code",
   "execution_count": 3,
   "metadata": {},
   "outputs": [],
   "source": [
    "#hash_bench = HashGeo3DNSearch.benchmark(10000)\n",
    "#brute_bench = BruteGeo3DNSearch.benchmark(10000)\n",
    "\n",
    "#plot_bench(hash_bench, brute_bench)"
   ]
  },
  {
   "cell_type": "code",
   "execution_count": 4,
   "metadata": {},
   "outputs": [
    {
     "name": "stdout",
     "output_type": "stream",
     "text": [
      "[  80  154  245  620  660  793  879  998 1025 1217 1222 1243 1289 1343\n",
      " 1451 1556 1572 1645 1696 1732 1888 1998 2097 2218 2243 2333 2384 2490\n",
      " 2562 2770 2925 3015 3458 3469 3500 3504 3744 3822 3831 3876 3915 3916\n",
      " 4113 4116 4136 4156 4211 4308 4321 4441 4512 4549 4597 4997 5099 5245\n",
      " 5627 5658 5769 5805 5981 6191 6213 6274 6296 6400 6581 6596 6737 6770\n",
      " 6831 6884 6980 6991 7339 7430 7510 7566 7721 7857 7882 8149 8180 8308\n",
      " 8432 8509 8669 8680 8717 8802 8921 9048 9166 9192 9319 9524 9639 9691\n",
      " 9813 9816]\n"
     ]
    },
    {
     "data": {
      "text/plain": [
       "10000"
      ]
     },
     "execution_count": 4,
     "metadata": {},
     "output_type": "execute_result"
    }
   ],
   "source": [
    "import numpy as np\n",
    "\n",
    "p_move = 0.01\n",
    "n_particles = 10000\n",
    "n_move = max(1,int(p_move*n_particles))\n",
    "values = HashGeo3DNSearch.create_positions(n_particles)\n",
    "move_values = HashGeo3DNSearch.create_positions(n_move)\n",
    "new_values = values.copy()\n",
    "move_index = np.random.choice(n_particles, size=n_move, replace=False)\n",
    "new_values[:, move_index] = move_values\n",
    "hash_tree = HashGeo3DNSearch(values, 0.1, depth_factor=10)\n",
    "hash_tree.consistency_check()\n",
    "hash_tree.update_values(new_values)\n",
    "hash_tree.consistency_check()\n",
    "print(np.sort(move_index))\n",
    "values.shape[1]"
   ]
  },
  {
   "cell_type": "code",
   "execution_count": 10,
   "metadata": {},
   "outputs": [],
   "source": [
    "update_bench = HashGeo3DNSearch.benchmark(100000)"
   ]
  },
  {
   "cell_type": "code",
   "execution_count": 11,
   "metadata": {},
   "outputs": [
    {
     "data": {
      "image/png": "[encoded data removed]",
      "text/plain": [
       "<Figure size 432x288 with 1 Axes>"
      ]
     },
     "metadata": {
      "needs_background": "light"
     },
     "output_type": "display_data"
    }
   ],
   "source": [
    "plt.plot(update_bench['n_particles'], update_bench[\"search_time\"], label=\"search\")\n",
    "plt.plot(update_bench['n_particles'], update_bench[\"update_time\"], label=\"update\")\n",
    "plt.plot(update_bench['n_particles'], update_bench[\"init_time\"], label=\"init\")\n",
    "plt.legend()\n",
    "plt.xscale('log')\n",
    "plt.yscale('log')\n",
    "plt.show()"
   ]
  },
  {
   "cell_type": "code",
   "execution_count": null,
   "metadata": {},
   "outputs": [],
   "source": []
  }
 ],
 "metadata": {
  "kernelspec": {
   "display_name": "Python 3",
   "language": "python",
   "name": "python3"
  },
  "language_info": {
   "codemirror_mode": {
    "name": "ipython",
    "version": 3
   },
   "file_extension": ".py",
   "mimetype": "text/x-python",
   "name": "python",
   "nbconvert_exporter": "python",
   "pygments_lexer": "ipython3",
   "version": "3.9.1"
  }
 },
 "nbformat": 4,
 "nbformat_minor": 4
}
